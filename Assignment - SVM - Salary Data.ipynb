{
 "cells": [
  {
   "cell_type": "code",
   "execution_count": null,
   "id": "8274e25b",
   "metadata": {},
   "outputs": [],
   "source": [
    "# Prepare a classification model using SVM for salary data "
   ]
  },
  {
   "cell_type": "code",
   "execution_count": 1,
   "id": "331bbb73",
   "metadata": {},
   "outputs": [],
   "source": [
    "import pandas as pd\n",
    "import numpy as np\n",
    "\n",
    "import matplotlib.pyplot as plt\n",
    "%matplotlib inline\n",
    "\n",
    "import seaborn as sns\n",
    "sns.set()"
   ]
  },
  {
   "cell_type": "code",
   "execution_count": 2,
   "id": "e10bda58",
   "metadata": {},
   "outputs": [],
   "source": [
    "# SVM lib\n",
    "from sklearn import svm\n",
    "from sklearn.svm import SVC"
   ]
  },
  {
   "cell_type": "code",
   "execution_count": 3,
   "id": "0217f8ed",
   "metadata": {},
   "outputs": [],
   "source": [
    "# split the data\n",
    "\n",
    "from sklearn.model_selection import train_test_split\n",
    "\n",
    "# Gridsearch\n",
    "from sklearn.model_selection import GridSearchCV"
   ]
  },
  {
   "cell_type": "code",
   "execution_count": 4,
   "id": "eeafeb0b",
   "metadata": {},
   "outputs": [],
   "source": [
    "# metrics\n",
    "\n",
    "from sklearn.metrics import accuracy_score,confusion_matrix,classification_report"
   ]
  },
  {
   "cell_type": "code",
   "execution_count": 5,
   "id": "6b9f081a",
   "metadata": {},
   "outputs": [],
   "source": [
    "from sklearn.preprocessing import LabelEncoder\n"
   ]
  },
  {
   "cell_type": "code",
   "execution_count": 6,
   "id": "ec1c1e94",
   "metadata": {},
   "outputs": [],
   "source": [
    "import warnings\n",
    "warnings.filterwarnings('ignore')"
   ]
  },
  {
   "cell_type": "markdown",
   "id": "a145ec34",
   "metadata": {},
   "source": [
    "## Preprocessing the Data"
   ]
  },
  {
   "cell_type": "code",
   "execution_count": 7,
   "id": "25c15ebb",
   "metadata": {},
   "outputs": [],
   "source": [
    "test_data = pd.read_csv('SalaryData_Test(1).csv')\n",
    "train_data = pd.read_csv('SalaryData_Train(1).csv')"
   ]
  },
  {
   "cell_type": "code",
   "execution_count": 8,
   "id": "39b2e664",
   "metadata": {},
   "outputs": [
    {
     "data": {
      "text/html": [
       "<div>\n",
       "<style scoped>\n",
       "    .dataframe tbody tr th:only-of-type {\n",
       "        vertical-align: middle;\n",
       "    }\n",
       "\n",
       "    .dataframe tbody tr th {\n",
       "        vertical-align: top;\n",
       "    }\n",
       "\n",
       "    .dataframe thead th {\n",
       "        text-align: right;\n",
       "    }\n",
       "</style>\n",
       "<table border=\"1\" class=\"dataframe\">\n",
       "  <thead>\n",
       "    <tr style=\"text-align: right;\">\n",
       "      <th></th>\n",
       "      <th>age</th>\n",
       "      <th>workclass</th>\n",
       "      <th>education</th>\n",
       "      <th>educationno</th>\n",
       "      <th>maritalstatus</th>\n",
       "      <th>occupation</th>\n",
       "      <th>relationship</th>\n",
       "      <th>race</th>\n",
       "      <th>sex</th>\n",
       "      <th>capitalgain</th>\n",
       "      <th>capitalloss</th>\n",
       "      <th>hoursperweek</th>\n",
       "      <th>native</th>\n",
       "      <th>Salary</th>\n",
       "    </tr>\n",
       "  </thead>\n",
       "  <tbody>\n",
       "    <tr>\n",
       "      <th>0</th>\n",
       "      <td>25</td>\n",
       "      <td>Private</td>\n",
       "      <td>11th</td>\n",
       "      <td>7</td>\n",
       "      <td>Never-married</td>\n",
       "      <td>Machine-op-inspct</td>\n",
       "      <td>Own-child</td>\n",
       "      <td>Black</td>\n",
       "      <td>Male</td>\n",
       "      <td>0</td>\n",
       "      <td>0</td>\n",
       "      <td>40</td>\n",
       "      <td>United-States</td>\n",
       "      <td>&lt;=50K</td>\n",
       "    </tr>\n",
       "    <tr>\n",
       "      <th>1</th>\n",
       "      <td>38</td>\n",
       "      <td>Private</td>\n",
       "      <td>HS-grad</td>\n",
       "      <td>9</td>\n",
       "      <td>Married-civ-spouse</td>\n",
       "      <td>Farming-fishing</td>\n",
       "      <td>Husband</td>\n",
       "      <td>White</td>\n",
       "      <td>Male</td>\n",
       "      <td>0</td>\n",
       "      <td>0</td>\n",
       "      <td>50</td>\n",
       "      <td>United-States</td>\n",
       "      <td>&lt;=50K</td>\n",
       "    </tr>\n",
       "    <tr>\n",
       "      <th>2</th>\n",
       "      <td>28</td>\n",
       "      <td>Local-gov</td>\n",
       "      <td>Assoc-acdm</td>\n",
       "      <td>12</td>\n",
       "      <td>Married-civ-spouse</td>\n",
       "      <td>Protective-serv</td>\n",
       "      <td>Husband</td>\n",
       "      <td>White</td>\n",
       "      <td>Male</td>\n",
       "      <td>0</td>\n",
       "      <td>0</td>\n",
       "      <td>40</td>\n",
       "      <td>United-States</td>\n",
       "      <td>&gt;50K</td>\n",
       "    </tr>\n",
       "    <tr>\n",
       "      <th>3</th>\n",
       "      <td>44</td>\n",
       "      <td>Private</td>\n",
       "      <td>Some-college</td>\n",
       "      <td>10</td>\n",
       "      <td>Married-civ-spouse</td>\n",
       "      <td>Machine-op-inspct</td>\n",
       "      <td>Husband</td>\n",
       "      <td>Black</td>\n",
       "      <td>Male</td>\n",
       "      <td>7688</td>\n",
       "      <td>0</td>\n",
       "      <td>40</td>\n",
       "      <td>United-States</td>\n",
       "      <td>&gt;50K</td>\n",
       "    </tr>\n",
       "    <tr>\n",
       "      <th>4</th>\n",
       "      <td>34</td>\n",
       "      <td>Private</td>\n",
       "      <td>10th</td>\n",
       "      <td>6</td>\n",
       "      <td>Never-married</td>\n",
       "      <td>Other-service</td>\n",
       "      <td>Not-in-family</td>\n",
       "      <td>White</td>\n",
       "      <td>Male</td>\n",
       "      <td>0</td>\n",
       "      <td>0</td>\n",
       "      <td>30</td>\n",
       "      <td>United-States</td>\n",
       "      <td>&lt;=50K</td>\n",
       "    </tr>\n",
       "  </tbody>\n",
       "</table>\n",
       "</div>"
      ],
      "text/plain": [
       "   age   workclass      education  educationno        maritalstatus  \\\n",
       "0   25     Private           11th            7        Never-married   \n",
       "1   38     Private        HS-grad            9   Married-civ-spouse   \n",
       "2   28   Local-gov     Assoc-acdm           12   Married-civ-spouse   \n",
       "3   44     Private   Some-college           10   Married-civ-spouse   \n",
       "4   34     Private           10th            6        Never-married   \n",
       "\n",
       "           occupation    relationship    race    sex  capitalgain  \\\n",
       "0   Machine-op-inspct       Own-child   Black   Male            0   \n",
       "1     Farming-fishing         Husband   White   Male            0   \n",
       "2     Protective-serv         Husband   White   Male            0   \n",
       "3   Machine-op-inspct         Husband   Black   Male         7688   \n",
       "4       Other-service   Not-in-family   White   Male            0   \n",
       "\n",
       "   capitalloss  hoursperweek          native  Salary  \n",
       "0            0            40   United-States   <=50K  \n",
       "1            0            50   United-States   <=50K  \n",
       "2            0            40   United-States    >50K  \n",
       "3            0            40   United-States    >50K  \n",
       "4            0            30   United-States   <=50K  "
      ]
     },
     "execution_count": 8,
     "metadata": {},
     "output_type": "execute_result"
    }
   ],
   "source": [
    "test_data.head()"
   ]
  },
  {
   "cell_type": "code",
   "execution_count": 9,
   "id": "8a185fde",
   "metadata": {},
   "outputs": [
    {
     "data": {
      "text/html": [
       "<div>\n",
       "<style scoped>\n",
       "    .dataframe tbody tr th:only-of-type {\n",
       "        vertical-align: middle;\n",
       "    }\n",
       "\n",
       "    .dataframe tbody tr th {\n",
       "        vertical-align: top;\n",
       "    }\n",
       "\n",
       "    .dataframe thead th {\n",
       "        text-align: right;\n",
       "    }\n",
       "</style>\n",
       "<table border=\"1\" class=\"dataframe\">\n",
       "  <thead>\n",
       "    <tr style=\"text-align: right;\">\n",
       "      <th></th>\n",
       "      <th>age</th>\n",
       "      <th>workclass</th>\n",
       "      <th>education</th>\n",
       "      <th>educationno</th>\n",
       "      <th>maritalstatus</th>\n",
       "      <th>occupation</th>\n",
       "      <th>relationship</th>\n",
       "      <th>race</th>\n",
       "      <th>sex</th>\n",
       "      <th>capitalgain</th>\n",
       "      <th>capitalloss</th>\n",
       "      <th>hoursperweek</th>\n",
       "      <th>native</th>\n",
       "      <th>Salary</th>\n",
       "    </tr>\n",
       "  </thead>\n",
       "  <tbody>\n",
       "    <tr>\n",
       "      <th>0</th>\n",
       "      <td>39</td>\n",
       "      <td>State-gov</td>\n",
       "      <td>Bachelors</td>\n",
       "      <td>13</td>\n",
       "      <td>Never-married</td>\n",
       "      <td>Adm-clerical</td>\n",
       "      <td>Not-in-family</td>\n",
       "      <td>White</td>\n",
       "      <td>Male</td>\n",
       "      <td>2174</td>\n",
       "      <td>0</td>\n",
       "      <td>40</td>\n",
       "      <td>United-States</td>\n",
       "      <td>&lt;=50K</td>\n",
       "    </tr>\n",
       "    <tr>\n",
       "      <th>1</th>\n",
       "      <td>50</td>\n",
       "      <td>Self-emp-not-inc</td>\n",
       "      <td>Bachelors</td>\n",
       "      <td>13</td>\n",
       "      <td>Married-civ-spouse</td>\n",
       "      <td>Exec-managerial</td>\n",
       "      <td>Husband</td>\n",
       "      <td>White</td>\n",
       "      <td>Male</td>\n",
       "      <td>0</td>\n",
       "      <td>0</td>\n",
       "      <td>13</td>\n",
       "      <td>United-States</td>\n",
       "      <td>&lt;=50K</td>\n",
       "    </tr>\n",
       "    <tr>\n",
       "      <th>2</th>\n",
       "      <td>38</td>\n",
       "      <td>Private</td>\n",
       "      <td>HS-grad</td>\n",
       "      <td>9</td>\n",
       "      <td>Divorced</td>\n",
       "      <td>Handlers-cleaners</td>\n",
       "      <td>Not-in-family</td>\n",
       "      <td>White</td>\n",
       "      <td>Male</td>\n",
       "      <td>0</td>\n",
       "      <td>0</td>\n",
       "      <td>40</td>\n",
       "      <td>United-States</td>\n",
       "      <td>&lt;=50K</td>\n",
       "    </tr>\n",
       "    <tr>\n",
       "      <th>3</th>\n",
       "      <td>53</td>\n",
       "      <td>Private</td>\n",
       "      <td>11th</td>\n",
       "      <td>7</td>\n",
       "      <td>Married-civ-spouse</td>\n",
       "      <td>Handlers-cleaners</td>\n",
       "      <td>Husband</td>\n",
       "      <td>Black</td>\n",
       "      <td>Male</td>\n",
       "      <td>0</td>\n",
       "      <td>0</td>\n",
       "      <td>40</td>\n",
       "      <td>United-States</td>\n",
       "      <td>&lt;=50K</td>\n",
       "    </tr>\n",
       "    <tr>\n",
       "      <th>4</th>\n",
       "      <td>28</td>\n",
       "      <td>Private</td>\n",
       "      <td>Bachelors</td>\n",
       "      <td>13</td>\n",
       "      <td>Married-civ-spouse</td>\n",
       "      <td>Prof-specialty</td>\n",
       "      <td>Wife</td>\n",
       "      <td>Black</td>\n",
       "      <td>Female</td>\n",
       "      <td>0</td>\n",
       "      <td>0</td>\n",
       "      <td>40</td>\n",
       "      <td>Cuba</td>\n",
       "      <td>&lt;=50K</td>\n",
       "    </tr>\n",
       "  </tbody>\n",
       "</table>\n",
       "</div>"
      ],
      "text/plain": [
       "   age          workclass   education  educationno        maritalstatus  \\\n",
       "0   39          State-gov   Bachelors           13        Never-married   \n",
       "1   50   Self-emp-not-inc   Bachelors           13   Married-civ-spouse   \n",
       "2   38            Private     HS-grad            9             Divorced   \n",
       "3   53            Private        11th            7   Married-civ-spouse   \n",
       "4   28            Private   Bachelors           13   Married-civ-spouse   \n",
       "\n",
       "           occupation    relationship    race      sex  capitalgain  \\\n",
       "0        Adm-clerical   Not-in-family   White     Male         2174   \n",
       "1     Exec-managerial         Husband   White     Male            0   \n",
       "2   Handlers-cleaners   Not-in-family   White     Male            0   \n",
       "3   Handlers-cleaners         Husband   Black     Male            0   \n",
       "4      Prof-specialty            Wife   Black   Female            0   \n",
       "\n",
       "   capitalloss  hoursperweek          native  Salary  \n",
       "0            0            40   United-States   <=50K  \n",
       "1            0            13   United-States   <=50K  \n",
       "2            0            40   United-States   <=50K  \n",
       "3            0            40   United-States   <=50K  \n",
       "4            0            40            Cuba   <=50K  "
      ]
     },
     "execution_count": 9,
     "metadata": {},
     "output_type": "execute_result"
    }
   ],
   "source": [
    "train_data.head()"
   ]
  },
  {
   "cell_type": "code",
   "execution_count": 10,
   "id": "040c56d0",
   "metadata": {},
   "outputs": [
    {
     "name": "stdout",
     "output_type": "stream",
     "text": [
      "<class 'pandas.core.frame.DataFrame'>\n",
      "RangeIndex: 30161 entries, 0 to 30160\n",
      "Data columns (total 14 columns):\n",
      " #   Column         Non-Null Count  Dtype \n",
      "---  ------         --------------  ----- \n",
      " 0   age            30161 non-null  int64 \n",
      " 1   workclass      30161 non-null  object\n",
      " 2   education      30161 non-null  object\n",
      " 3   educationno    30161 non-null  int64 \n",
      " 4   maritalstatus  30161 non-null  object\n",
      " 5   occupation     30161 non-null  object\n",
      " 6   relationship   30161 non-null  object\n",
      " 7   race           30161 non-null  object\n",
      " 8   sex            30161 non-null  object\n",
      " 9   capitalgain    30161 non-null  int64 \n",
      " 10  capitalloss    30161 non-null  int64 \n",
      " 11  hoursperweek   30161 non-null  int64 \n",
      " 12  native         30161 non-null  object\n",
      " 13  Salary         30161 non-null  object\n",
      "dtypes: int64(5), object(9)\n",
      "memory usage: 3.2+ MB\n"
     ]
    }
   ],
   "source": [
    "train_data.info()"
   ]
  },
  {
   "cell_type": "code",
   "execution_count": 11,
   "id": "7af74dd1",
   "metadata": {},
   "outputs": [],
   "source": [
    "label=['workclass','education','maritalstatus','occupation','relationship','race','sex','native']"
   ]
  },
  {
   "cell_type": "code",
   "execution_count": 12,
   "id": "eeb31240",
   "metadata": {},
   "outputs": [],
   "source": [
    "# changing the categorical data in numerical\n",
    "label_encode = LabelEncoder()\n",
    "\n",
    "for i in label:\n",
    "    train_data[i] = label_encode.fit_transform(train_data[i])\n",
    "    test_data[i] = label_encode.fit_transform(test_data[i])"
   ]
  },
  {
   "cell_type": "code",
   "execution_count": null,
   "id": "e2e06cb2",
   "metadata": {},
   "outputs": [],
   "source": [
    "# lalbeling done"
   ]
  },
  {
   "cell_type": "code",
   "execution_count": 13,
   "id": "45ddf7d2",
   "metadata": {},
   "outputs": [],
   "source": [
    "# splitting the data - \n",
    "\n",
    "x_train = train_data.iloc[:1000,0:13]\n",
    "y_train = train_data.iloc[:1000,13]\n",
    "\n",
    "x_test = test_data.iloc[:500,0:13]\n",
    "y_test = test_data.iloc[:500,13]"
   ]
  },
  {
   "cell_type": "code",
   "execution_count": null,
   "id": "cedcb6a6",
   "metadata": {},
   "outputs": [],
   "source": []
  },
  {
   "cell_type": "markdown",
   "id": "d6b015c6",
   "metadata": {},
   "source": [
    "## SVM - Linear Model"
   ]
  },
  {
   "cell_type": "code",
   "execution_count": 14,
   "id": "27ee06e2",
   "metadata": {},
   "outputs": [
    {
     "name": "stdout",
     "output_type": "stream",
     "text": [
      "The Accuracy of Linear Model over Training data is = 80.2%\n",
      "Confusion Matrix is \n",
      " [[709  47]\n",
      " [151  93]]\n"
     ]
    }
   ],
   "source": [
    "# creating the model\n",
    "lin_model = SVC(kernel='linear')\n",
    "\n",
    "#fiting the model\n",
    "lin_model.fit(x_train,y_train)\n",
    "\n",
    "# predicting on training Data\n",
    "pred_train_linear = lin_model.predict(x_train)\n",
    "\n",
    "# Accuracy & Confusion Matix over the Training data\n",
    "\n",
    "print(f'The Accuracy of Linear Model over Training data is = {accuracy_score(y_train,pred_train_linear)*100}%')\n",
    "\n",
    "print(f'Confusion Matrix is \\n {confusion_matrix(y_train,pred_train_linear)}')\n"
   ]
  },
  {
   "cell_type": "code",
   "execution_count": 15,
   "id": "1f4d3830",
   "metadata": {},
   "outputs": [
    {
     "name": "stdout",
     "output_type": "stream",
     "text": [
      "The Accuracy of Linear Model over Testing data is = 80.0%\n",
      "Confusion Matrix is \n",
      " [[354  28]\n",
      " [ 72  46]]\n"
     ]
    }
   ],
   "source": [
    "# predicting on testing Data\n",
    "pred_test_linear = lin_model.predict(x_test)\n",
    "\n",
    "# Accuracy & Confusion Matix over the Testing data\n",
    "\n",
    "print(f'The Accuracy of Linear Model over Testing data is = {accuracy_score(y_test,pred_test_linear)*100}%')\n",
    "\n",
    "print(f'Confusion Matrix is \\n {confusion_matrix(y_test,pred_test_linear)}')\n"
   ]
  },
  {
   "cell_type": "code",
   "execution_count": null,
   "id": "7a3ecd9d",
   "metadata": {},
   "outputs": [],
   "source": []
  },
  {
   "cell_type": "markdown",
   "id": "7b73ab5a",
   "metadata": {},
   "source": [
    "## SVM - Polynomial"
   ]
  },
  {
   "cell_type": "code",
   "execution_count": 16,
   "id": "808343ce",
   "metadata": {},
   "outputs": [
    {
     "name": "stdout",
     "output_type": "stream",
     "text": [
      "The Accuracy of Polynomial Model over Training data is = 79.0%\n",
      "Confusion Matrix is \n",
      " [[749   7]\n",
      " [203  41]]\n"
     ]
    }
   ],
   "source": [
    "# creating the model\n",
    "poly_model = SVC(kernel='poly')\n",
    "\n",
    "#fiting the model\n",
    "poly_model.fit(x_train,y_train)\n",
    "\n",
    "# predicting on training Data\n",
    "pred_train_poly = poly_model.predict(x_train)\n",
    "\n",
    "# Accuracy & Confusion Matix over the Training data\n",
    "\n",
    "print(f'The Accuracy of Polynomial Model over Training data is = {accuracy_score(y_train,pred_train_poly)*100}%')\n",
    "\n",
    "print(f'Confusion Matrix is \\n {confusion_matrix(y_train,pred_train_poly)}')\n"
   ]
  },
  {
   "cell_type": "code",
   "execution_count": 17,
   "id": "0ee4b467",
   "metadata": {},
   "outputs": [
    {
     "name": "stdout",
     "output_type": "stream",
     "text": [
      "The Accuracy of Polynomial Model over Testing data is = 80.60000000000001%\n",
      "Confusion Matrix is \n",
      " [[381   1]\n",
      " [ 96  22]]\n"
     ]
    }
   ],
   "source": [
    "# predicting on testing Data\n",
    "pred_test_poly = poly_model.predict(x_test)\n",
    "\n",
    "# Accuracy & Confusion Matix over the Testing data\n",
    "\n",
    "print(f'The Accuracy of Polynomial Model over Testing data is = {accuracy_score(y_test,pred_test_poly)*100}%')\n",
    "\n",
    "print(f'Confusion Matrix is \\n {confusion_matrix(y_test,pred_test_poly)}')"
   ]
  },
  {
   "cell_type": "code",
   "execution_count": null,
   "id": "8e9b6dbb",
   "metadata": {},
   "outputs": [],
   "source": []
  },
  {
   "cell_type": "markdown",
   "id": "1a6295fb",
   "metadata": {},
   "source": [
    "## RBF - Exponential"
   ]
  },
  {
   "cell_type": "code",
   "execution_count": 18,
   "id": "f28f3a14",
   "metadata": {},
   "outputs": [
    {
     "name": "stdout",
     "output_type": "stream",
     "text": [
      "The best Score is 0.756\n",
      "The Best Parameter for RBF is = {'C': 15, 'gamma': 5, 'kernel': 'rbf'}\n"
     ]
    }
   ],
   "source": [
    "# finding optimal no of dimension\n",
    "\n",
    "rbf_model = SVC()\n",
    "\n",
    "param = [{'kernel':['rbf'],'C':[15,14,13, 12, 11, 10,5, 0.1],'gamma':[5, 50, 10, 0.5]}]\n",
    "\n",
    "grid = GridSearchCV(estimator=rbf_model,param_grid=param)\n",
    "\n",
    "grid.fit(x_train,y_train)\n",
    "\n",
    "print(f'The best Score is {np.round(grid.best_score_,4)}')\n",
    "print(f'The Best Parameter for RBF is = {grid.best_params_}')"
   ]
  },
  {
   "cell_type": "code",
   "execution_count": 19,
   "id": "c7ba9f00",
   "metadata": {},
   "outputs": [
    {
     "name": "stdout",
     "output_type": "stream",
     "text": [
      "The Accuracy over Training data is = 99.6%\n",
      "Confusion Matrix is \n",
      " [[756   0]\n",
      " [  4 240]]\n"
     ]
    }
   ],
   "source": [
    "# Model of Expontial form - e^-x\n",
    "svm_rbf_model = SVC(kernel='rbf',C =15, gamma=5)\n",
    "\n",
    "# fitting the Data\n",
    "svm_rbf_model.fit(x_train,y_train)\n",
    "\n",
    "# prediction on train Data\n",
    "pred_rbf = svm_rbf_model.predict(x_train)\n",
    "\n",
    "# Accuracy & Confusion Matix over the Training data\n",
    "\n",
    "print(f'The Accuracy over Training data is = {accuracy_score(y_train,pred_rbf)*100}%')\n",
    "\n",
    "print(f'Confusion Matrix is \\n {confusion_matrix(y_train,pred_rbf)}')"
   ]
  },
  {
   "cell_type": "code",
   "execution_count": 20,
   "id": "871beb04",
   "metadata": {},
   "outputs": [
    {
     "name": "stdout",
     "output_type": "stream",
     "text": [
      "The Accuracy over Testing data is = 76.4%\n",
      "Confusion Matrix is \n",
      " [[382   0]\n",
      " [118   0]]\n"
     ]
    }
   ],
   "source": [
    "# prediction on testing Data\n",
    "pred_rbf_test = svm_rbf_model.predict(x_test)\n",
    "\n",
    "# Accuracy & Confusion Matix over the Testing data\n",
    "\n",
    "print(f'The Accuracy over Testing data is = {accuracy_score(y_test,pred_rbf_test)*100}%')\n",
    "\n",
    "print(f'Confusion Matrix is \\n {confusion_matrix(y_test,pred_rbf_test)}')"
   ]
  },
  {
   "cell_type": "code",
   "execution_count": null,
   "id": "6d868791",
   "metadata": {},
   "outputs": [],
   "source": []
  },
  {
   "cell_type": "code",
   "execution_count": null,
   "id": "041f2f51",
   "metadata": {},
   "outputs": [],
   "source": []
  },
  {
   "cell_type": "code",
   "execution_count": null,
   "id": "cd214d92",
   "metadata": {},
   "outputs": [],
   "source": []
  }
 ],
 "metadata": {
  "kernelspec": {
   "display_name": "Python 3 (ipykernel)",
   "language": "python",
   "name": "python3"
  },
  "language_info": {
   "codemirror_mode": {
    "name": "ipython",
    "version": 3
   },
   "file_extension": ".py",
   "mimetype": "text/x-python",
   "name": "python",
   "nbconvert_exporter": "python",
   "pygments_lexer": "ipython3",
   "version": "3.9.7"
  },
  "varInspector": {
   "cols": {
    "lenName": 16,
    "lenType": 16,
    "lenVar": 40
   },
   "kernels_config": {
    "python": {
     "delete_cmd_postfix": "",
     "delete_cmd_prefix": "del ",
     "library": "var_list.py",
     "varRefreshCmd": "print(var_dic_list())"
    },
    "r": {
     "delete_cmd_postfix": ") ",
     "delete_cmd_prefix": "rm(",
     "library": "var_list.r",
     "varRefreshCmd": "cat(var_dic_list()) "
    }
   },
   "types_to_exclude": [
    "module",
    "function",
    "builtin_function_or_method",
    "instance",
    "_Feature"
   ],
   "window_display": false
  }
 },
 "nbformat": 4,
 "nbformat_minor": 5
}
